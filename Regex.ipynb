{
 "cells": [
  {
   "cell_type": "code",
   "execution_count": 16,
   "metadata": {
    "scrolled": true
   },
   "outputs": [
    {
     "name": "stdout",
     "output_type": "stream",
     "text": [
      "['50', '70']\n",
      "['John', 'Doe']\n",
      "{'John': '50', 'Doe': '70'}\n"
     ]
    }
   ],
   "source": [
    "import re\n",
    "\n",
    "sample = '''John is not Doe but 50 and 70 years old.'''\n",
    "\n",
    "ages = re.findall(r'\\d{1,5}', sample)\n",
    "names = re.findall(r'[A-Z][a-z]*', sample)\n",
    "\n",
    "print(ages)\n",
    "print(names)\n",
    "\n",
    "nameAgeDict = {}\n",
    "x=0\n",
    "for i in names:\n",
    "    nameAgeDict[i] = ages[x]\n",
    "    x+=1\n",
    "\n",
    "print(nameAgeDict)"
   ]
  },
  {
   "cell_type": "code",
   "execution_count": null,
   "metadata": {},
   "outputs": [],
   "source": []
  }
 ],
 "metadata": {
  "kernelspec": {
   "display_name": "Python 3",
   "language": "python",
   "name": "python3"
  },
  "language_info": {
   "codemirror_mode": {
    "name": "ipython",
    "version": 3
   },
   "file_extension": ".py",
   "mimetype": "text/x-python",
   "name": "python",
   "nbconvert_exporter": "python",
   "pygments_lexer": "ipython3",
   "version": "3.7.4"
  }
 },
 "nbformat": 4,
 "nbformat_minor": 2
}
